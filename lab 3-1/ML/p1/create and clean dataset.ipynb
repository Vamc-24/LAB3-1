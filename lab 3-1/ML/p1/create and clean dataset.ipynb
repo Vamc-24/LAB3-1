{
 "cells": [
  {
   "cell_type": "code",
   "execution_count": 51,
   "id": "793bf25e",
   "metadata": {},
   "outputs": [
    {
     "name": "stdout",
     "output_type": "stream",
     "text": [
      "Requirement already satisfied: Faker in c:\\users\\saiva\\anaconda3\\lib\\site-packages (37.4.2)\n",
      "Requirement already satisfied: tzdata in c:\\users\\saiva\\anaconda3\\lib\\site-packages (from Faker) (2023.3)\n",
      "Note: you may need to restart the kernel to use updated packages.\n"
     ]
    }
   ],
   "source": [
    "pip install Faker"
   ]
  },
  {
   "cell_type": "code",
   "execution_count": 52,
   "id": "7fee5e72",
   "metadata": {},
   "outputs": [],
   "source": [
    "from faker import Faker\n",
    "import pandas as pd\n",
    "import numpy as np\n",
    "import random\n",
    "fake=Faker('en_IN')"
   ]
  },
  {
   "cell_type": "code",
   "execution_count": 53,
   "id": "5584ebc9",
   "metadata": {},
   "outputs": [
    {
     "data": {
      "text/plain": [
       "'Samaksh Rout'"
      ]
     },
     "execution_count": 53,
     "metadata": {},
     "output_type": "execute_result"
    }
   ],
   "source": [
    "fake.name()"
   ]
  },
  {
   "cell_type": "code",
   "execution_count": 54,
   "id": "378146fa",
   "metadata": {},
   "outputs": [
    {
     "name": "stdout",
     "output_type": "stream",
     "text": [
      "   user_id first_name    last_name                    email         city  \\\n",
      "0     5256    Widisha         Dhar    champak01@hotmail.com     Bhusawal   \n",
      "1     2526   Vyanjana        Ahuja      devpillai@gmail.com       Haldia   \n",
      "2     3712    Abhiram  Swaminathan  hegdeyadavi@hotmail.com  Farrukhabad   \n",
      "3     1346  Vaishnavi     Tripathi      kaitata@hotmail.com      Vellore   \n",
      "4     8930     Pavani       Kapoor        fariq41@gmail.com        Patna   \n",
      "\n",
      "              state  \n",
      "0        Tamil Nadu  \n",
      "1  Himachal Pradesh  \n",
      "2            Odisha  \n",
      "3           Haryana  \n",
      "4            Sikkim  \n",
      "<class 'pandas.core.frame.DataFrame'>\n",
      "RangeIndex: 100 entries, 0 to 99\n",
      "Data columns (total 6 columns):\n",
      " #   Column      Non-Null Count  Dtype \n",
      "---  ------      --------------  ----- \n",
      " 0   user_id     100 non-null    int64 \n",
      " 1   first_name  100 non-null    object\n",
      " 2   last_name   100 non-null    object\n",
      " 3   email       100 non-null    object\n",
      " 4   city        100 non-null    object\n",
      " 5   state       100 non-null    object\n",
      "dtypes: int64(1), object(5)\n",
      "memory usage: 4.8+ KB\n",
      "None\n"
     ]
    }
   ],
   "source": [
    "num_records = 100\n",
    "data = []\n",
    "\n",
    "for _ in range(num_records):\n",
    "    data.append({\n",
    "        'user_id': fake.unique.pyint(),\n",
    "        'first_name': fake.first_name(),\n",
    "        'last_name': fake.last_name(),\n",
    "        'email': fake.free_email(),\n",
    "        'city': fake.city(),\n",
    "        'state': fake.state()})\n",
    "\n",
    "df = pd.DataFrame(data)\n",
    "print(df.head())\n",
    "print(df.info())"
   ]
  },
  {
   "cell_type": "code",
   "execution_count": 55,
   "id": "2c55c770",
   "metadata": {},
   "outputs": [
    {
     "data": {
      "text/plain": [
       "array(['Bhusawal', 'Haldia', 'Farrukhabad', 'Vellore', 'Patna',\n",
       "       'Bhilwara', 'Silchar', 'Bikaner', 'Eluru', 'Sasaram', 'Kottayam',\n",
       "       'Bhavnagar', 'Nagaon', 'Vadodara', 'Nashik', 'Tezpur',\n",
       "       'Miryalaguda', 'Sikar', 'Nanded', 'Pali', 'Dhanbad', 'Ujjain',\n",
       "       'Ambattur', 'Howrah', 'Buxar', 'Dhule', 'Sambhal', 'Jalandhar',\n",
       "       'Amravati', 'Katihar', 'Chandigarh', 'Etawah', 'Mira-Bhayandar',\n",
       "       'Nagercoil', 'Bhagalpur', 'Bharatpur', 'Bhiwani', 'Jammu', 'Satna',\n",
       "       'Bhavnagar', 'Jalna', 'Bhilai', 'Chandrapur', 'Bidhannagar',\n",
       "       'Kumbakonam', 'Serampore', 'Ambala', 'Bulandshahr', 'Alwar',\n",
       "       'Gangtok', 'Nashik', 'Ambarnath', 'Bhimavaram', 'Parbhani',\n",
       "       'Nadiad', 'Nashik', 'Amroha', 'Durgapur', 'Sirsa', 'Deoghar',\n",
       "       'Kishanganj', 'Bongaigaon', 'Ambattur', 'Kalyan-Dombivli',\n",
       "       'Kanpur', 'Nagercoil', 'Moradabad', 'Medininagar',\n",
       "       'Rajpur Sonarpur', 'Solapur', 'Guntakal', 'Tiruvottiyur',\n",
       "       'Yamunanagar', 'Raipur', 'Navi Mumbai', 'Mysore', 'Kulti',\n",
       "       'Pondicherry', 'Begusarai', 'Kolhapur', 'Serampore', 'Adoni',\n",
       "       'Guna', 'Lucknow', 'Vijayanagaram', 'Kota', 'Anantapur', 'Howrah',\n",
       "       'Vijayawada', 'Tezpur', 'Kirari Suleman Nagar', 'Thoothukudi',\n",
       "       'Indore', 'Guntur', 'Phagwara', 'Thoothukudi', 'Hajipur',\n",
       "       'Bijapur', 'Fatehpur', 'Singrauli'], dtype=object)"
      ]
     },
     "execution_count": 55,
     "metadata": {},
     "output_type": "execute_result"
    }
   ],
   "source": [
    "df['city'].values"
   ]
  },
  {
   "cell_type": "code",
   "execution_count": 56,
   "id": "037ce8be",
   "metadata": {},
   "outputs": [
    {
     "name": "stdout",
     "output_type": "stream",
     "text": [
      "<class 'pandas.core.frame.DataFrame'>\n",
      "RangeIndex: 100 entries, 0 to 99\n",
      "Data columns (total 6 columns):\n",
      " #   Column      Non-Null Count  Dtype \n",
      "---  ------      --------------  ----- \n",
      " 0   user_id     100 non-null    int64 \n",
      " 1   first_name  100 non-null    object\n",
      " 2   last_name   100 non-null    object\n",
      " 3   email       100 non-null    object\n",
      " 4   city        100 non-null    object\n",
      " 5   state       100 non-null    object\n",
      "dtypes: int64(1), object(5)\n",
      "memory usage: 4.8+ KB\n"
     ]
    }
   ],
   "source": [
    "df.info()"
   ]
  },
  {
   "cell_type": "code",
   "execution_count": 57,
   "id": "80cd8639",
   "metadata": {},
   "outputs": [
    {
     "data": {
      "text/plain": [
       "user_id       0\n",
       "first_name    0\n",
       "last_name     0\n",
       "email         0\n",
       "city          0\n",
       "state         0\n",
       "dtype: int64"
      ]
     },
     "execution_count": 57,
     "metadata": {},
     "output_type": "execute_result"
    }
   ],
   "source": [
    "df.isnull().sum()"
   ]
  },
  {
   "cell_type": "code",
   "execution_count": 58,
   "id": "a16ca870",
   "metadata": {},
   "outputs": [],
   "source": [
    "df['user_id'] = df['user_id'].astype('Int64')"
   ]
  },
  {
   "cell_type": "code",
   "execution_count": 59,
   "id": "31e530c1",
   "metadata": {},
   "outputs": [
    {
     "name": "stdout",
     "output_type": "stream",
     "text": [
      "<class 'pandas.core.frame.DataFrame'>\n",
      "RangeIndex: 100 entries, 0 to 99\n",
      "Data columns (total 6 columns):\n",
      " #   Column      Non-Null Count  Dtype \n",
      "---  ------      --------------  ----- \n",
      " 0   user_id     100 non-null    Int64 \n",
      " 1   first_name  100 non-null    object\n",
      " 2   last_name   100 non-null    object\n",
      " 3   email       100 non-null    object\n",
      " 4   city        100 non-null    object\n",
      " 5   state       100 non-null    object\n",
      "dtypes: Int64(1), object(5)\n",
      "memory usage: 4.9+ KB\n"
     ]
    }
   ],
   "source": [
    "df.info()"
   ]
  },
  {
   "cell_type": "code",
   "execution_count": 60,
   "id": "462c5060",
   "metadata": {},
   "outputs": [
    {
     "data": {
      "text/plain": [
       "Index([37, 40, 69, 81, 66, 22, 64, 65], dtype='int64')"
      ]
     },
     "execution_count": 60,
     "metadata": {},
     "output_type": "execute_result"
    }
   ],
   "source": [
    "random_indices = df.sample(n=8).index\n",
    "random_indices"
   ]
  },
  {
   "cell_type": "code",
   "execution_count": 61,
   "id": "613e74b7",
   "metadata": {},
   "outputs": [],
   "source": [
    "df.loc[random_indices,'user_id'] = np.nan"
   ]
  },
  {
   "cell_type": "code",
   "execution_count": 62,
   "id": "10c97610",
   "metadata": {},
   "outputs": [
    {
     "data": {
      "text/plain": [
       "7"
      ]
     },
     "execution_count": 62,
     "metadata": {},
     "output_type": "execute_result"
    }
   ],
   "source": [
    "df['user_id'].duplicated().sum()"
   ]
  },
  {
   "cell_type": "code",
   "execution_count": 63,
   "id": "d163d9d3",
   "metadata": {},
   "outputs": [],
   "source": [
    "random_indices2 = df.sample(n=5).index"
   ]
  },
  {
   "cell_type": "code",
   "execution_count": 64,
   "id": "add8fee6",
   "metadata": {},
   "outputs": [],
   "source": [
    "df.loc[random_indices2,'state'] = np.nan"
   ]
  },
  {
   "cell_type": "code",
   "execution_count": 65,
   "id": "e037251f",
   "metadata": {},
   "outputs": [],
   "source": [
    "random_indices3 = df.sample(n=9).index"
   ]
  },
  {
   "cell_type": "code",
   "execution_count": 66,
   "id": "292c9169",
   "metadata": {},
   "outputs": [],
   "source": [
    "df.loc[random_indices3,'city'] = np.nan"
   ]
  },
  {
   "cell_type": "code",
   "execution_count": 67,
   "id": "6e0cab21",
   "metadata": {},
   "outputs": [
    {
     "name": "stdout",
     "output_type": "stream",
     "text": [
      "<class 'pandas.core.frame.DataFrame'>\n",
      "RangeIndex: 100 entries, 0 to 99\n",
      "Data columns (total 6 columns):\n",
      " #   Column      Non-Null Count  Dtype \n",
      "---  ------      --------------  ----- \n",
      " 0   user_id     92 non-null     Int64 \n",
      " 1   first_name  100 non-null    object\n",
      " 2   last_name   100 non-null    object\n",
      " 3   email       100 non-null    object\n",
      " 4   city        91 non-null     object\n",
      " 5   state       95 non-null     object\n",
      "dtypes: Int64(1), object(5)\n",
      "memory usage: 4.9+ KB\n"
     ]
    }
   ],
   "source": [
    "df.info()"
   ]
  },
  {
   "cell_type": "code",
   "execution_count": 68,
   "id": "9ab4f5d3",
   "metadata": {},
   "outputs": [],
   "source": [
    "df.to_csv('imbalance data.csv')"
   ]
  },
  {
   "cell_type": "code",
   "execution_count": 69,
   "id": "9bda3a5e",
   "metadata": {},
   "outputs": [
    {
     "data": {
      "text/plain": [
       "8"
      ]
     },
     "execution_count": 69,
     "metadata": {},
     "output_type": "execute_result"
    }
   ],
   "source": [
    "df['user_id'].isna().sum()"
   ]
  },
  {
   "cell_type": "code",
   "execution_count": 70,
   "id": "6002e467",
   "metadata": {},
   "outputs": [
    {
     "data": {
      "text/plain": [
       "5"
      ]
     },
     "execution_count": 70,
     "metadata": {},
     "output_type": "execute_result"
    }
   ],
   "source": [
    "df['state'].isna().sum()"
   ]
  },
  {
   "cell_type": "code",
   "execution_count": 71,
   "id": "fd3fcc63",
   "metadata": {},
   "outputs": [
    {
     "data": {
      "text/plain": [
       "9"
      ]
     },
     "execution_count": 71,
     "metadata": {},
     "output_type": "execute_result"
    }
   ],
   "source": [
    "df['city'].isna().sum()"
   ]
  },
  {
   "cell_type": "code",
   "execution_count": 72,
   "id": "ce165f2f",
   "metadata": {},
   "outputs": [
    {
     "data": {
      "text/plain": [
       "0"
      ]
     },
     "execution_count": 72,
     "metadata": {},
     "output_type": "execute_result"
    }
   ],
   "source": [
    "df.duplicated().sum()"
   ]
  },
  {
   "cell_type": "code",
   "execution_count": 73,
   "id": "4f6cd19f",
   "metadata": {},
   "outputs": [],
   "source": [
    "df.drop_duplicates(inplace=True)"
   ]
  },
  {
   "cell_type": "code",
   "execution_count": 74,
   "id": "3b0427a9",
   "metadata": {},
   "outputs": [
    {
     "name": "stdout",
     "output_type": "stream",
     "text": [
      "<class 'pandas.core.frame.DataFrame'>\n",
      "RangeIndex: 100 entries, 0 to 99\n",
      "Data columns (total 6 columns):\n",
      " #   Column      Non-Null Count  Dtype \n",
      "---  ------      --------------  ----- \n",
      " 0   user_id     92 non-null     Int64 \n",
      " 1   first_name  100 non-null    object\n",
      " 2   last_name   100 non-null    object\n",
      " 3   email       100 non-null    object\n",
      " 4   city        91 non-null     object\n",
      " 5   state       95 non-null     object\n",
      "dtypes: Int64(1), object(5)\n",
      "memory usage: 4.9+ KB\n"
     ]
    }
   ],
   "source": [
    "df.info()"
   ]
  },
  {
   "cell_type": "code",
   "execution_count": 75,
   "id": "f1030309",
   "metadata": {},
   "outputs": [
    {
     "data": {
      "text/plain": [
       "0"
      ]
     },
     "execution_count": 75,
     "metadata": {},
     "output_type": "execute_result"
    }
   ],
   "source": [
    "df.duplicated().sum()"
   ]
  },
  {
   "cell_type": "code",
   "execution_count": 76,
   "id": "9679e67a",
   "metadata": {},
   "outputs": [
    {
     "data": {
      "text/html": [
       "<div>\n",
       "<style scoped>\n",
       "    .dataframe tbody tr th:only-of-type {\n",
       "        vertical-align: middle;\n",
       "    }\n",
       "\n",
       "    .dataframe tbody tr th {\n",
       "        vertical-align: top;\n",
       "    }\n",
       "\n",
       "    .dataframe thead th {\n",
       "        text-align: right;\n",
       "    }\n",
       "</style>\n",
       "<table border=\"1\" class=\"dataframe\">\n",
       "  <thead>\n",
       "    <tr style=\"text-align: right;\">\n",
       "      <th></th>\n",
       "      <th>user_id</th>\n",
       "      <th>first_name</th>\n",
       "      <th>last_name</th>\n",
       "      <th>email</th>\n",
       "      <th>city</th>\n",
       "      <th>state</th>\n",
       "    </tr>\n",
       "  </thead>\n",
       "  <tbody>\n",
       "    <tr>\n",
       "      <th>0</th>\n",
       "      <td>5256</td>\n",
       "      <td>Widisha</td>\n",
       "      <td>Dhar</td>\n",
       "      <td>champak01@hotmail.com</td>\n",
       "      <td>Bhusawal</td>\n",
       "      <td>Tamil Nadu</td>\n",
       "    </tr>\n",
       "    <tr>\n",
       "      <th>1</th>\n",
       "      <td>2526</td>\n",
       "      <td>Vyanjana</td>\n",
       "      <td>Ahuja</td>\n",
       "      <td>devpillai@gmail.com</td>\n",
       "      <td>Haldia</td>\n",
       "      <td>Himachal Pradesh</td>\n",
       "    </tr>\n",
       "    <tr>\n",
       "      <th>2</th>\n",
       "      <td>3712</td>\n",
       "      <td>Abhiram</td>\n",
       "      <td>Swaminathan</td>\n",
       "      <td>hegdeyadavi@hotmail.com</td>\n",
       "      <td>Farrukhabad</td>\n",
       "      <td>Odisha</td>\n",
       "    </tr>\n",
       "    <tr>\n",
       "      <th>4</th>\n",
       "      <td>8930</td>\n",
       "      <td>Pavani</td>\n",
       "      <td>Kapoor</td>\n",
       "      <td>fariq41@gmail.com</td>\n",
       "      <td>Patna</td>\n",
       "      <td>Sikkim</td>\n",
       "    </tr>\n",
       "    <tr>\n",
       "      <th>5</th>\n",
       "      <td>4247</td>\n",
       "      <td>Ekapad</td>\n",
       "      <td>Ranganathan</td>\n",
       "      <td>ganeshkevin@yahoo.com</td>\n",
       "      <td>Bhilwara</td>\n",
       "      <td>Rajasthan</td>\n",
       "    </tr>\n",
       "    <tr>\n",
       "      <th>...</th>\n",
       "      <td>...</td>\n",
       "      <td>...</td>\n",
       "      <td>...</td>\n",
       "      <td>...</td>\n",
       "      <td>...</td>\n",
       "      <td>...</td>\n",
       "    </tr>\n",
       "    <tr>\n",
       "      <th>95</th>\n",
       "      <td>7726</td>\n",
       "      <td>Finn</td>\n",
       "      <td>Dave</td>\n",
       "      <td>mandalmax@gmail.com</td>\n",
       "      <td>Thoothukudi</td>\n",
       "      <td>Odisha</td>\n",
       "    </tr>\n",
       "    <tr>\n",
       "      <th>96</th>\n",
       "      <td>7979</td>\n",
       "      <td>Forum</td>\n",
       "      <td>Dara</td>\n",
       "      <td>madhavi40@gmail.com</td>\n",
       "      <td>Hajipur</td>\n",
       "      <td>Assam</td>\n",
       "    </tr>\n",
       "    <tr>\n",
       "      <th>97</th>\n",
       "      <td>670</td>\n",
       "      <td>Inaya</td>\n",
       "      <td>Vohra</td>\n",
       "      <td>warda07@yahoo.com</td>\n",
       "      <td>Bijapur</td>\n",
       "      <td>Uttar Pradesh</td>\n",
       "    </tr>\n",
       "    <tr>\n",
       "      <th>98</th>\n",
       "      <td>6023</td>\n",
       "      <td>Ubika</td>\n",
       "      <td>Kalita</td>\n",
       "      <td>sraja@gmail.com</td>\n",
       "      <td>Fatehpur</td>\n",
       "      <td>Gujarat</td>\n",
       "    </tr>\n",
       "    <tr>\n",
       "      <th>99</th>\n",
       "      <td>5782</td>\n",
       "      <td>Dalbir</td>\n",
       "      <td>Contractor</td>\n",
       "      <td>chatresh18@yahoo.com</td>\n",
       "      <td>Singrauli</td>\n",
       "      <td>Goa</td>\n",
       "    </tr>\n",
       "  </tbody>\n",
       "</table>\n",
       "<p>80 rows × 6 columns</p>\n",
       "</div>"
      ],
      "text/plain": [
       "    user_id first_name    last_name                    email         city  \\\n",
       "0      5256    Widisha         Dhar    champak01@hotmail.com     Bhusawal   \n",
       "1      2526   Vyanjana        Ahuja      devpillai@gmail.com       Haldia   \n",
       "2      3712    Abhiram  Swaminathan  hegdeyadavi@hotmail.com  Farrukhabad   \n",
       "4      8930     Pavani       Kapoor        fariq41@gmail.com        Patna   \n",
       "5      4247     Ekapad  Ranganathan    ganeshkevin@yahoo.com     Bhilwara   \n",
       "..      ...        ...          ...                      ...          ...   \n",
       "95     7726       Finn         Dave      mandalmax@gmail.com  Thoothukudi   \n",
       "96     7979      Forum         Dara      madhavi40@gmail.com      Hajipur   \n",
       "97      670      Inaya        Vohra        warda07@yahoo.com      Bijapur   \n",
       "98     6023      Ubika       Kalita          sraja@gmail.com     Fatehpur   \n",
       "99     5782     Dalbir   Contractor     chatresh18@yahoo.com    Singrauli   \n",
       "\n",
       "               state  \n",
       "0         Tamil Nadu  \n",
       "1   Himachal Pradesh  \n",
       "2             Odisha  \n",
       "4             Sikkim  \n",
       "5          Rajasthan  \n",
       "..               ...  \n",
       "95            Odisha  \n",
       "96             Assam  \n",
       "97     Uttar Pradesh  \n",
       "98           Gujarat  \n",
       "99               Goa  \n",
       "\n",
       "[80 rows x 6 columns]"
      ]
     },
     "execution_count": 76,
     "metadata": {},
     "output_type": "execute_result"
    }
   ],
   "source": [
    "df.dropna()"
   ]
  },
  {
   "cell_type": "code",
   "execution_count": 85,
   "id": "36e1be27",
   "metadata": {},
   "outputs": [
    {
     "data": {
      "text/plain": [
       "4332.0"
      ]
     },
     "execution_count": 85,
     "metadata": {},
     "output_type": "execute_result"
    }
   ],
   "source": [
    "median_=df['user_id'].median()\n",
    "median_\n"
   ]
  },
  {
   "cell_type": "code",
   "execution_count": 86,
   "id": "c5fba886",
   "metadata": {},
   "outputs": [],
   "source": [
    "df['user_id'].fillna(median_,inplace=True)"
   ]
  },
  {
   "cell_type": "code",
   "execution_count": 87,
   "id": "bac646e4",
   "metadata": {},
   "outputs": [
    {
     "name": "stdout",
     "output_type": "stream",
     "text": [
      "<class 'pandas.core.frame.DataFrame'>\n",
      "RangeIndex: 100 entries, 0 to 99\n",
      "Data columns (total 6 columns):\n",
      " #   Column      Non-Null Count  Dtype \n",
      "---  ------      --------------  ----- \n",
      " 0   user_id     100 non-null    Int64 \n",
      " 1   first_name  100 non-null    object\n",
      " 2   last_name   100 non-null    object\n",
      " 3   email       100 non-null    object\n",
      " 4   city        91 non-null     object\n",
      " 5   state       95 non-null     object\n",
      "dtypes: Int64(1), object(5)\n",
      "memory usage: 4.9+ KB\n"
     ]
    }
   ],
   "source": [
    "df.info()"
   ]
  },
  {
   "cell_type": "code",
   "execution_count": null,
   "id": "6dc08dbb",
   "metadata": {},
   "outputs": [],
   "source": [
    "df['state'].fillna(fake.state(),inplace=True)"
   ]
  },
  {
   "cell_type": "code",
   "execution_count": 91,
   "id": "ad81fe15",
   "metadata": {},
   "outputs": [
    {
     "name": "stdout",
     "output_type": "stream",
     "text": [
      "<class 'pandas.core.frame.DataFrame'>\n",
      "RangeIndex: 100 entries, 0 to 99\n",
      "Data columns (total 6 columns):\n",
      " #   Column      Non-Null Count  Dtype \n",
      "---  ------      --------------  ----- \n",
      " 0   user_id     100 non-null    Int64 \n",
      " 1   first_name  100 non-null    object\n",
      " 2   last_name   100 non-null    object\n",
      " 3   email       100 non-null    object\n",
      " 4   city        91 non-null     object\n",
      " 5   state       100 non-null    object\n",
      "dtypes: Int64(1), object(5)\n",
      "memory usage: 4.9+ KB\n"
     ]
    }
   ],
   "source": [
    "df.info()"
   ]
  },
  {
   "cell_type": "code",
   "execution_count": 92,
   "id": "9f0aeeb6",
   "metadata": {},
   "outputs": [
    {
     "name": "stderr",
     "output_type": "stream",
     "text": [
      "C:\\Users\\saiva\\AppData\\Local\\Temp\\ipykernel_13300\\4113957517.py:1: FutureWarning: A value is trying to be set on a copy of a DataFrame or Series through chained assignment using an inplace method.\n",
      "The behavior will change in pandas 3.0. This inplace method will never work because the intermediate object on which we are setting values always behaves as a copy.\n",
      "\n",
      "For example, when doing 'df[col].method(value, inplace=True)', try using 'df.method({col: value}, inplace=True)' or df[col] = df[col].method(value) instead, to perform the operation inplace on the original object.\n",
      "\n",
      "\n",
      "  df['city'].fillna(fake.city(),inplace=True)\n"
     ]
    }
   ],
   "source": [
    "df['city'].fillna(fake.city(),inplace=True)"
   ]
  },
  {
   "cell_type": "code",
   "execution_count": 93,
   "id": "ae1371f5",
   "metadata": {},
   "outputs": [
    {
     "name": "stdout",
     "output_type": "stream",
     "text": [
      "<class 'pandas.core.frame.DataFrame'>\n",
      "RangeIndex: 100 entries, 0 to 99\n",
      "Data columns (total 6 columns):\n",
      " #   Column      Non-Null Count  Dtype \n",
      "---  ------      --------------  ----- \n",
      " 0   user_id     100 non-null    Int64 \n",
      " 1   first_name  100 non-null    object\n",
      " 2   last_name   100 non-null    object\n",
      " 3   email       100 non-null    object\n",
      " 4   city        100 non-null    object\n",
      " 5   state       100 non-null    object\n",
      "dtypes: Int64(1), object(5)\n",
      "memory usage: 4.9+ KB\n"
     ]
    }
   ],
   "source": [
    "df.info()"
   ]
  },
  {
   "cell_type": "code",
   "execution_count": 97,
   "id": "e98288c8",
   "metadata": {},
   "outputs": [],
   "source": [
    "df.to_csv('Cleaned data.csv')"
   ]
  }
 ],
 "metadata": {
  "kernelspec": {
   "display_name": "base",
   "language": "python",
   "name": "python3"
  },
  "language_info": {
   "codemirror_mode": {
    "name": "ipython",
    "version": 3
   },
   "file_extension": ".py",
   "mimetype": "text/x-python",
   "name": "python",
   "nbconvert_exporter": "python",
   "pygments_lexer": "ipython3",
   "version": "3.12.7"
  }
 },
 "nbformat": 4,
 "nbformat_minor": 5
}
